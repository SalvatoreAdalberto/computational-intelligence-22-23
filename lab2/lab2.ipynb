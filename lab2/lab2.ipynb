{
 "cells": [
  {
   "cell_type": "code",
   "execution_count": 15,
   "metadata": {},
   "outputs": [],
   "source": [
    "import random\n",
    "import math\n",
    "from collections import namedtuple, deque"
   ]
  },
  {
   "cell_type": "markdown",
   "metadata": {},
   "source": [
    "### Problem definition"
   ]
  },
  {
   "cell_type": "code",
   "execution_count": 16,
   "metadata": {},
   "outputs": [],
   "source": [
    "def problem(N, seed=None):\n",
    "    random.seed(seed)\n",
    "    return [\n",
    "        list(set(random.randint(0, N - 1) for n in range(random.randint(N // 5, N // 2))))\n",
    "        for n in range(random.randint(N, N * 5))\n",
    "    ]\n",
    "\n",
    "N = 100\n",
    "random.seed(42)\n",
    "generated_problem = list(set([tuple(x) for x in problem(N, seed=42)]))"
   ]
  },
  {
   "cell_type": "markdown",
   "metadata": {},
   "source": [
    "## Genetic Algorithm\n",
    "\n",
    "### Genetic Operators  "
   ]
  },
  {
   "cell_type": "code",
   "execution_count": 17,
   "metadata": {},
   "outputs": [],
   "source": [
    "Individual = namedtuple(\"Individual\", [\"genome\", \"fitness\"])\n",
    "\n",
    "PROBLEM_SIZE = len(generated_problem)\n",
    "POPULATION_SIZE = 2*N\n",
    "NUM_GENERATIONS = 200\n",
    "OFFSPRING_SIZE = math.ceil(1.5*N)\n",
    "STEADY_STATE = 20\n",
    "\n",
    "def tournament(population, tournament_size=2):\n",
    "    return max(random.choices(population, k=tournament_size), key=lambda i: i.fitness) # if random.random() < 0.8 else random.choice(population)\n",
    "\n",
    "def cross_over(g1, g2):\n",
    "    cut = random.randint(0, PROBLEM_SIZE)\n",
    "    return g1[:cut] + g2[cut:]\n",
    "\n",
    "def cross_over2(g1, g2):\n",
    "    return tuple(random.choice([g1[e], g2[e]]) for e in range(0, PROBLEM_SIZE))\n",
    "\n",
    "def mutation(g):\n",
    "    point = random.randint(0, PROBLEM_SIZE-1)\n",
    "    return g[:point] + (1 - g[point],) + g[point + 1:]\n",
    "    \n"
   ]
  },
  {
   "cell_type": "markdown",
   "metadata": {},
   "source": [
    "### Evaluate fitness and other useful function"
   ]
  },
  {
   "cell_type": "code",
   "execution_count": 18,
   "metadata": {},
   "outputs": [],
   "source": [
    "def evaluate_fitness(genome):\n",
    "    # fitness considers the amount of numbers already covered and the weight of the solution\n",
    "    indexes = (i for i, x in enumerate(genome) if x == 1)\n",
    "    all_elements = [element for sublist in (generated_problem[x] for x in indexes) for element in sublist]\n",
    "    weight = len(all_elements)\n",
    "    coverage = len(set(all_elements))\n",
    "    #mean_reps = np.array([int(e) for e in Counter(all_elements).values()]).mean()\n",
    "    #boost_for_correct_solution = 2*N if coverage == N else 0\n",
    "    #return boost_for_correct_solution + coverage - 0.5*weight\n",
    "    return coverage, -weight"
   ]
  },
  {
   "cell_type": "markdown",
   "metadata": {},
   "source": [
    "### Initial Population generation"
   ]
  },
  {
   "cell_type": "code",
   "execution_count": 19,
   "metadata": {},
   "outputs": [],
   "source": [
    "def initialize_population():\n",
    "    population = deque()\n",
    "    fitness_log = [(0, i.fitness) for i in population]\n",
    "    ### RANDOM GENERATION\n",
    "     # for genome in [tuple([random.choice([1, 0]) for _ in range(PROBLEM_SIZE)]) for _ in range(POPULATION_SIZE)]:\n",
    "     #     population.append(Individual(genome, evaluate_fitness(genome)))\n",
    "\n",
    "    ### 0 GENERATION\n",
    "    genome0 = tuple(0 for e in range(PROBLEM_SIZE))\n",
    "    f0 = evaluate_fitness(genome0)\n",
    "    for genome in range(POPULATION_SIZE):\n",
    "        population.append(Individual(genome0, f0))\n",
    "\n",
    "    return population\n"
   ]
  },
  {
   "cell_type": "markdown",
   "metadata": {},
   "source": [
    "### Evolution"
   ]
  },
  {
   "cell_type": "code",
   "execution_count": 20,
   "metadata": {},
   "outputs": [],
   "source": [
    "def run_evolution():\n",
    "    population = initialize_population()\n",
    "    last_fittest = deque()\n",
    "    for g in range(NUM_GENERATIONS):\n",
    "        offspring = list()\n",
    "        mr = 0.4 if g < 3*NUM_GENERATIONS//4 else 0.7\n",
    "        for i in range(OFFSPRING_SIZE):\n",
    "            if random.random() < 0.3:\n",
    "                p = tournament(population)\n",
    "                o = mutation(p.genome)\n",
    "            else:\n",
    "                p1 = tournament(population)\n",
    "                p2 = tournament(population)\n",
    "                o = cross_over(p1.genome, p2.genome)\n",
    "            offspring.append(Individual(o, evaluate_fitness(o)))\n",
    "        population += offspring\n",
    "        population = sorted(population, key=lambda i: i.fitness, reverse=True)[:POPULATION_SIZE]\n",
    "        fittest = population[0]\n",
    "        last_fittest.append(fittest.fitness)\n",
    "\n",
    "        if last_fittest.count(fittest.fitness) == STEADY_STATE:\n",
    "           break\n",
    "\n",
    "        #print(f\"gen: {g}, fitness: {fittest.fitness}\")\n",
    "\n",
    "    return population[0].fitness\n"
   ]
  },
  {
   "cell_type": "code",
   "execution_count": 21,
   "metadata": {},
   "outputs": [
    {
     "name": "stdout",
     "output_type": "stream",
     "text": [
      "(4, -4)\n",
      "(10, -12)\n",
      "(20, -30)\n",
      "(100, -204)\n"
     ]
    },
    {
     "ename": "KeyboardInterrupt",
     "evalue": "",
     "output_type": "error",
     "traceback": [
      "\u001b[0;31m---------------------------------------------------------------------------\u001b[0m",
      "\u001b[0;31mKeyboardInterrupt\u001b[0m                         Traceback (most recent call last)",
      "Cell \u001b[0;32mIn [21], line 7\u001b[0m\n\u001b[1;32m      5\u001b[0m POPULATION_SIZE \u001b[38;5;241m=\u001b[39m \u001b[38;5;241m2\u001b[39m\u001b[38;5;241m*\u001b[39mN\n\u001b[1;32m      6\u001b[0m OFFSPRING_SIZE \u001b[38;5;241m=\u001b[39m math\u001b[38;5;241m.\u001b[39mceil(\u001b[38;5;241m1.5\u001b[39m\u001b[38;5;241m*\u001b[39mN)\n\u001b[0;32m----> 7\u001b[0m res \u001b[38;5;241m=\u001b[39m \u001b[43mrun_evolution\u001b[49m\u001b[43m(\u001b[49m\u001b[43m)\u001b[49m\n\u001b[1;32m      8\u001b[0m \u001b[38;5;28mprint\u001b[39m(res)\n",
      "Cell \u001b[0;32mIn [20], line 8\u001b[0m, in \u001b[0;36mrun_evolution\u001b[0;34m()\u001b[0m\n\u001b[1;32m      6\u001b[0m mr \u001b[38;5;241m=\u001b[39m \u001b[38;5;241m0.4\u001b[39m \u001b[38;5;28;01mif\u001b[39;00m g \u001b[38;5;241m<\u001b[39m \u001b[38;5;241m3\u001b[39m\u001b[38;5;241m*\u001b[39mNUM_GENERATIONS\u001b[38;5;241m/\u001b[39m\u001b[38;5;241m/\u001b[39m\u001b[38;5;241m4\u001b[39m \u001b[38;5;28;01melse\u001b[39;00m \u001b[38;5;241m0.7\u001b[39m\n\u001b[1;32m      7\u001b[0m \u001b[38;5;28;01mfor\u001b[39;00m i \u001b[38;5;129;01min\u001b[39;00m \u001b[38;5;28mrange\u001b[39m(OFFSPRING_SIZE):\n\u001b[0;32m----> 8\u001b[0m     \u001b[38;5;28;01mif\u001b[39;00m \u001b[43mrandom\u001b[49m\u001b[38;5;241;43m.\u001b[39;49m\u001b[43mrandom\u001b[49m\u001b[43m(\u001b[49m\u001b[43m)\u001b[49m \u001b[38;5;241m<\u001b[39m \u001b[38;5;241m0.3\u001b[39m:\n\u001b[1;32m      9\u001b[0m         p \u001b[38;5;241m=\u001b[39m tournament(population)\n\u001b[1;32m     10\u001b[0m         o \u001b[38;5;241m=\u001b[39m mutation(p\u001b[38;5;241m.\u001b[39mgenome)\n",
      "\u001b[0;31mKeyboardInterrupt\u001b[0m: "
     ]
    }
   ],
   "source": [
    "arr = [5, 10, 20, 100, 500, 1000]\n",
    "for N in arr:\n",
    "    generated_problem = list(set([tuple(x) for x in problem(N)]))\n",
    "    PROBLEM_SIZE = len(generated_problem)\n",
    "    POPULATION_SIZE = 2*N\n",
    "    OFFSPRING_SIZE = math.ceil(1.5*N)\n",
    "    res = run_evolution()\n",
    "    print(res)"
   ]
  }
 ],
 "metadata": {
  "interpreter": {
   "hash": "0ea1b08b46cfc20f9e2295cce54a0034ab2bd4610795e94cd2f497bb491a957c"
  },
  "kernelspec": {
   "display_name": "Python 3.10.0 ('ci22-al2GS7YL-py3.10')",
   "language": "python",
   "name": "python3"
  },
  "language_info": {
   "codemirror_mode": {
    "name": "ipython",
    "version": 3
   },
   "file_extension": ".py",
   "mimetype": "text/x-python",
   "name": "python",
   "nbconvert_exporter": "python",
   "pygments_lexer": "ipython3",
   "version": "3.10.0"
  },
  "orig_nbformat": 4
 },
 "nbformat": 4,
 "nbformat_minor": 2
}
