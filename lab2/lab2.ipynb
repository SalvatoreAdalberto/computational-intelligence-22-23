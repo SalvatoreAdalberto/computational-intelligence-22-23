{
 "cells": [
  {
   "cell_type": "code",
   "execution_count": 291,
   "metadata": {},
   "outputs": [],
   "source": [
    "import random\n",
    "import math\n",
    "from collections import namedtuple, deque"
   ]
  },
  {
   "cell_type": "markdown",
   "metadata": {},
   "source": [
    "### Problem definition"
   ]
  },
  {
   "cell_type": "code",
   "execution_count": 292,
   "metadata": {},
   "outputs": [],
   "source": [
    "def problem(N, seed=None):\n",
    "    random.seed(seed)\n",
    "    return [\n",
    "        list(set(random.randint(0, N - 1) for n in range(random.randint(N // 5, N // 2))))\n",
    "        for n in range(random.randint(N, N * 5))\n",
    "    ]\n",
    "\n",
    "N = 1000\n",
    "random.seed(42)\n",
    "generated_problem = list(set([tuple(x) for x in problem(N, seed=42)]))"
   ]
  },
  {
   "cell_type": "markdown",
   "metadata": {},
   "source": [
    "## Genetic Algorithm\n",
    "\n",
    "### Genetic Operators  "
   ]
  },
  {
   "cell_type": "code",
   "execution_count": 293,
   "metadata": {},
   "outputs": [],
   "source": [
    "Individual = namedtuple(\"Individual\", [\"genome\", \"fitness\"])\n",
    "\n",
    "PROBLEM_SIZE = len(generated_problem)\n",
    "POPULATION_SIZE = 2*N\n",
    "NUM_GENERATIONS = 200\n",
    "OFFSPRING_SIZE = math.ceil(1.5*N)\n",
    "STEADY_STATE = 20\n",
    "\n",
    "def tournament(population, tournament_size=2):\n",
    "    return max(random.choices(population, k=tournament_size), key=lambda i: i.fitness) # if random.random() < 0.8 else random.choice(population)\n",
    "\n",
    "def cross_over(g1, g2):\n",
    "    cut = random.randint(0, PROBLEM_SIZE)\n",
    "    return g1[:cut] + g2[cut:]\n",
    "\n",
    "def cross_over2(g1, g2):\n",
    "    return tuple(random.choice([g1[e], g2[e]]) for e in range(0, PROBLEM_SIZE))\n",
    "\n",
    "def mutation(g):\n",
    "    point = random.randint(0, PROBLEM_SIZE-1)\n",
    "    return g[:point] + (1 - g[point],) + g[point + 1:]\n",
    "    \n"
   ]
  },
  {
   "cell_type": "markdown",
   "metadata": {},
   "source": [
    "### Evaluate fitness and other useful function"
   ]
  },
  {
   "cell_type": "code",
   "execution_count": 294,
   "metadata": {},
   "outputs": [],
   "source": [
    "def evaluate_fitness(genome):\n",
    "    # fitness considers the amount of numbers already covered and the weight of the solution\n",
    "    indexes = (i for i, x in enumerate(genome) if x == 1)\n",
    "    all_elements = [element for sublist in (generated_problem[x] for x in indexes) for element in sublist]\n",
    "    weight = len(all_elements)\n",
    "    coverage = len(set(all_elements))\n",
    "    #mean_reps = np.array([int(e) for e in Counter(all_elements).values()]).mean()\n",
    "    #boost_for_correct_solution = 2*N if coverage == N else 0\n",
    "    #return boost_for_correct_solution + coverage - 0.5*weight\n",
    "    return coverage, -weight"
   ]
  },
  {
   "cell_type": "markdown",
   "metadata": {},
   "source": [
    "### Initial Population generation"
   ]
  },
  {
   "cell_type": "code",
   "execution_count": 295,
   "metadata": {},
   "outputs": [],
   "source": [
    "def initialize_population():\n",
    "    population = deque()\n",
    "    fitness_log = [(0, i.fitness) for i in population]\n",
    "    ### RANDOM GENERATION\n",
    "     # for genome in [tuple([random.choice([1, 0]) for _ in range(PROBLEM_SIZE)]) for _ in range(POPULATION_SIZE)]:\n",
    "     #     population.append(Individual(genome, evaluate_fitness(genome)))\n",
    "\n",
    "    ### 0 GENERATION\n",
    "    genome0 = tuple(0 for e in range(PROBLEM_SIZE))\n",
    "    f0 = evaluate_fitness(genome0)\n",
    "    for genome in range(POPULATION_SIZE):\n",
    "        population.append(Individual(genome0, f0))\n",
    "\n",
    "    return population\n"
   ]
  },
  {
   "cell_type": "markdown",
   "metadata": {},
   "source": [
    "### Evolution"
   ]
  },
  {
   "cell_type": "code",
   "execution_count": 296,
   "metadata": {},
   "outputs": [],
   "source": [
    "def run_evolution():\n",
    "    population = initialize_population()\n",
    "    last_fittest = deque()\n",
    "    for g in range(NUM_GENERATIONS):\n",
    "        offspring = list()\n",
    "        #mr = 0.4 if g < 4*NUM_GENERATIONS//5 else 0.7\n",
    "        for i in range(OFFSPRING_SIZE):\n",
    "            if random.random() < 0.3:\n",
    "                p = tournament(population)\n",
    "                o = mutation(p.genome)\n",
    "            else:\n",
    "                p1 = tournament(population)\n",
    "                p2 = tournament(population)\n",
    "                o = cross_over(p1.genome, p2.genome)\n",
    "            offspring.append(Individual(o, evaluate_fitness(o)))\n",
    "        population += offspring\n",
    "        population = sorted(population, key=lambda i: i.fitness, reverse=True)[:POPULATION_SIZE]\n",
    "        fittest = population[0]\n",
    "        last_fittest.append(fittest.fitness)\n",
    "\n",
    "        if last_fittest.count(fittest.fitness) == STEADY_STATE:\n",
    "           break\n",
    "\n",
    "        print(f\"gen: {g}, fitness: {fittest.fitness}\")\n",
    "\n",
    "    return population[0].fitness\n"
   ]
  },
  {
   "cell_type": "code",
   "execution_count": 297,
   "metadata": {},
   "outputs": [
    {
     "name": "stdout",
     "output_type": "stream",
     "text": [
      "gen: 0, fitness: (406, -406)\n",
      "gen: 1, fitness: (622, -751)\n",
      "gen: 2, fitness: (753, -1081)\n",
      "gen: 3, fitness: (854, -1503)\n",
      "gen: 4, fitness: (929, -2066)\n",
      "gen: 5, fitness: (947, -2285)\n",
      "gen: 6, fitness: (975, -2957)\n",
      "gen: 7, fitness: (983, -3132)\n",
      "gen: 8, fitness: (988, -3620)\n",
      "gen: 9, fitness: (994, -3480)\n",
      "gen: 10, fitness: (1000, -4581)\n",
      "gen: 11, fitness: (1000, -4581)\n",
      "gen: 12, fitness: (1000, -4562)\n",
      "gen: 13, fitness: (1000, -4468)\n",
      "gen: 14, fitness: (1000, -4355)\n",
      "gen: 15, fitness: (1000, -4265)\n",
      "gen: 16, fitness: (1000, -4243)\n",
      "gen: 17, fitness: (1000, -4243)\n",
      "gen: 18, fitness: (1000, -4243)\n",
      "gen: 19, fitness: (1000, -4060)\n",
      "gen: 20, fitness: (1000, -4060)\n",
      "gen: 21, fitness: (1000, -4060)\n",
      "gen: 22, fitness: (1000, -4060)\n",
      "gen: 23, fitness: (1000, -4060)\n",
      "gen: 24, fitness: (1000, -4060)\n",
      "gen: 25, fitness: (1000, -4060)\n",
      "gen: 26, fitness: (1000, -4060)\n",
      "gen: 27, fitness: (1000, -4010)\n",
      "gen: 28, fitness: (1000, -4010)\n",
      "gen: 29, fitness: (1000, -4010)\n",
      "gen: 30, fitness: (1000, -4010)\n",
      "gen: 31, fitness: (1000, -4010)\n",
      "gen: 32, fitness: (1000, -4010)\n",
      "gen: 33, fitness: (1000, -3999)\n",
      "gen: 34, fitness: (1000, -3844)\n",
      "gen: 35, fitness: (1000, -3818)\n",
      "gen: 36, fitness: (1000, -3782)\n",
      "gen: 37, fitness: (1000, -3782)\n",
      "gen: 38, fitness: (1000, -3782)\n",
      "gen: 39, fitness: (1000, -3782)\n",
      "gen: 40, fitness: (1000, -3782)\n",
      "gen: 41, fitness: (1000, -3767)\n",
      "gen: 42, fitness: (1000, -3767)\n",
      "gen: 43, fitness: (1000, -3757)\n",
      "gen: 44, fitness: (1000, -3757)\n",
      "gen: 45, fitness: (1000, -3757)\n",
      "gen: 46, fitness: (1000, -3757)\n",
      "gen: 47, fitness: (1000, -3757)\n",
      "gen: 48, fitness: (1000, -3757)\n",
      "gen: 49, fitness: (1000, -3757)\n",
      "gen: 50, fitness: (1000, -3757)\n",
      "gen: 51, fitness: (1000, -3757)\n",
      "gen: 52, fitness: (1000, -3757)\n",
      "gen: 53, fitness: (1000, -3757)\n",
      "gen: 54, fitness: (1000, -3757)\n",
      "gen: 55, fitness: (1000, -3757)\n",
      "gen: 56, fitness: (1000, -3757)\n",
      "gen: 57, fitness: (1000, -3757)\n",
      "gen: 58, fitness: (1000, -3757)\n",
      "gen: 59, fitness: (1000, -3757)\n",
      "gen: 60, fitness: (1000, -3757)\n",
      "gen: 61, fitness: (1000, -3757)\n"
     ]
    },
    {
     "data": {
      "text/plain": [
       "(1000, -3757)"
      ]
     },
     "execution_count": 297,
     "metadata": {},
     "output_type": "execute_result"
    }
   ],
   "source": [
    "res = run_evolution()\n",
    "res"
   ]
  }
 ],
 "metadata": {
  "interpreter": {
   "hash": "0ea1b08b46cfc20f9e2295cce54a0034ab2bd4610795e94cd2f497bb491a957c"
  },
  "kernelspec": {
   "display_name": "Python 3.10.0 ('ci22-al2GS7YL-py3.10')",
   "language": "python",
   "name": "python3"
  },
  "language_info": {
   "codemirror_mode": {
    "name": "ipython",
    "version": 3
   },
   "file_extension": ".py",
   "mimetype": "text/x-python",
   "name": "python",
   "nbconvert_exporter": "python",
   "pygments_lexer": "ipython3",
   "version": "3.10.0"
  },
  "orig_nbformat": 4
 },
 "nbformat": 4,
 "nbformat_minor": 2
}
