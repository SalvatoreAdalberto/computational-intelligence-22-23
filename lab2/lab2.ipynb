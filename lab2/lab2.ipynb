{
 "cells": [
  {
   "cell_type": "code",
   "execution_count": 249,
   "metadata": {},
   "outputs": [],
   "source": [
    "import random\n",
    "import math\n",
    "from collections import namedtuple, deque"
   ]
  },
  {
   "cell_type": "markdown",
   "metadata": {},
   "source": [
    "### Problem definition"
   ]
  },
  {
   "cell_type": "code",
   "execution_count": 250,
   "metadata": {},
   "outputs": [],
   "source": [
    "def problem(N, seed=None):\n",
    "    random.seed(seed)\n",
    "    return [\n",
    "        list(set(random.randint(0, N - 1) for n in range(random.randint(N // 5, N // 2))))\n",
    "        for n in range(random.randint(N, N * 5))\n",
    "    ]\n",
    "\n",
    "N = 500\n",
    "random.seed(42)\n",
    "generated_problem = list(set([tuple(x) for x in problem(N, seed=42)]))"
   ]
  },
  {
   "cell_type": "markdown",
   "metadata": {},
   "source": [
    "## Genetic Algorithm\n",
    "\n",
    "### Genetic Operators  "
   ]
  },
  {
   "cell_type": "code",
   "execution_count": 251,
   "metadata": {},
   "outputs": [],
   "source": [
    "Individual = namedtuple(\"Individual\", [\"genome\", \"fitness\"])\n",
    "\n",
    "PROBLEM_SIZE = len(generated_problem)\n",
    "POPULATION_SIZE = 2*N\n",
    "NUM_GENERATIONS = 200\n",
    "OFFSPRING_SIZE = math.ceil(1.5*N)\n",
    "STEADY_STATE = 20\n",
    "\n",
    "def tournament(population, tournament_size=2):\n",
    "    return max(random.choices(population, k=tournament_size), key=lambda i: i.fitness) # if random.random() < 0.8 else random.choice(population)\n",
    "\n",
    "def cross_over(g1, g2):\n",
    "    cut = random.randint(0, PROBLEM_SIZE)\n",
    "    return g1[:cut] + g2[cut:]\n",
    "\n",
    "def cross_over2(g1, g2):\n",
    "    return tuple(random.choice([g1[e], g2[e]]) for e in range(0, PROBLEM_SIZE))\n",
    "\n",
    "def mutation(g):\n",
    "    point = random.randint(0, PROBLEM_SIZE-1)\n",
    "    return g[:point] + (1 - g[point],) + g[point + 1:]\n",
    "    \n"
   ]
  },
  {
   "cell_type": "markdown",
   "metadata": {},
   "source": [
    "### Evaluate fitness and other useful function"
   ]
  },
  {
   "cell_type": "code",
   "execution_count": 252,
   "metadata": {},
   "outputs": [],
   "source": [
    "def evaluate_fitness(genome):\n",
    "    # fitness considers the amount of numbers already covered and the weight of the solution\n",
    "    indexes = (i for i, x in enumerate(genome) if x == 1)\n",
    "    all_elements = [element for sublist in (generated_problem[x] for x in indexes) for element in sublist]\n",
    "    weight = len(all_elements)\n",
    "    coverage = len(set(all_elements))\n",
    "    #mean_reps = np.array([int(e) for e in Counter(all_elements).values()]).mean()\n",
    "    #boost_for_correct_solution = 2*N if coverage == N else 0\n",
    "    #return boost_for_correct_solution + coverage - 0.5*weight\n",
    "    return coverage, -weight"
   ]
  },
  {
   "cell_type": "markdown",
   "metadata": {},
   "source": [
    "### Initial Population generation"
   ]
  },
  {
   "cell_type": "code",
   "execution_count": 253,
   "metadata": {},
   "outputs": [],
   "source": [
    "def initialize_population():\n",
    "    population = deque()\n",
    "    fitness_log = [(0, i.fitness) for i in population]\n",
    "    ### RANDOM GENERATION\n",
    "    # for genome in [tuple([random.choice([1, 0]) for _ in range(PROBLEM_SIZE)]) for _ in range(POPULATION_SIZE)]:\n",
    "    #     population.append(Individual(genome, evaluate_fitness(genome)))\n",
    "\n",
    "    ### EMPTY GENERATION\n",
    "    genome0 = tuple(0 for e in range(PROBLEM_SIZE))\n",
    "    f0 = evaluate_fitness(genome0)\n",
    "    for genome in range(POPULATION_SIZE):\n",
    "        population.append(Individual(genome0, f0))\n",
    "\n",
    "    return population\n"
   ]
  },
  {
   "cell_type": "markdown",
   "metadata": {},
   "source": [
    "### Evolution"
   ]
  },
  {
   "cell_type": "code",
   "execution_count": 254,
   "metadata": {},
   "outputs": [],
   "source": [
    "def run_evolution():\n",
    "    population = initialize_population()\n",
    "    last_fittest = deque()\n",
    "    for g in range(NUM_GENERATIONS):\n",
    "        offspring = list()\n",
    "        #mr = 0.4 if g < 4*NUM_GENERATIONS//5 else 0.7\n",
    "        for i in range(OFFSPRING_SIZE):\n",
    "            if random.random() < 0.3:\n",
    "                p = tournament(population)\n",
    "                o = mutation(p.genome)\n",
    "            else:\n",
    "                p1 = tournament(population)\n",
    "                p2 = tournament(population)\n",
    "                o = cross_over(p1.genome, p2.genome)\n",
    "            offspring.append(Individual(o, evaluate_fitness(o)))\n",
    "        population += offspring\n",
    "        population = sorted(population, key=lambda i: i.fitness, reverse=True)[:POPULATION_SIZE]\n",
    "        fittest = population[0]\n",
    "        last_fittest.append(fittest.fitness)\n",
    "\n",
    "        if last_fittest.count(fittest.fitness) == STEADY_STATE:\n",
    "           break\n",
    "\n",
    "        print(f\"gen: {g}, fitness: {fittest.fitness}\")\n",
    "\n",
    "    return population[0].fitness\n"
   ]
  },
  {
   "cell_type": "code",
   "execution_count": 255,
   "metadata": {},
   "outputs": [
    {
     "name": "stdout",
     "output_type": "stream",
     "text": [
      "gen: 0, fitness: (201, -201)\n",
      "gen: 1, fitness: (302, -357)\n",
      "gen: 2, fitness: (403, -655)\n",
      "gen: 3, fitness: (431, -778)\n",
      "gen: 4, fitness: (447, -837)\n",
      "gen: 5, fitness: (463, -994)\n",
      "gen: 6, fitness: (480, -1251)\n",
      "gen: 7, fitness: (490, -1447)\n",
      "gen: 8, fitness: (496, -1809)\n",
      "gen: 9, fitness: (497, -1643)\n",
      "gen: 10, fitness: (500, -2066)\n",
      "gen: 11, fitness: (500, -2058)\n",
      "gen: 12, fitness: (500, -1893)\n",
      "gen: 13, fitness: (500, -1893)\n",
      "gen: 14, fitness: (500, -1805)\n",
      "gen: 15, fitness: (500, -1805)\n",
      "gen: 16, fitness: (500, -1783)\n",
      "gen: 17, fitness: (500, -1762)\n",
      "gen: 18, fitness: (500, -1762)\n",
      "gen: 19, fitness: (500, -1762)\n",
      "gen: 20, fitness: (500, -1762)\n",
      "gen: 21, fitness: (500, -1762)\n",
      "gen: 22, fitness: (500, -1762)\n",
      "gen: 23, fitness: (500, -1762)\n",
      "gen: 24, fitness: (500, -1754)\n",
      "gen: 25, fitness: (500, -1737)\n",
      "gen: 26, fitness: (500, -1737)\n",
      "gen: 27, fitness: (500, -1737)\n",
      "gen: 28, fitness: (500, -1636)\n",
      "gen: 29, fitness: (500, -1636)\n",
      "gen: 30, fitness: (500, -1632)\n",
      "gen: 31, fitness: (500, -1632)\n",
      "gen: 32, fitness: (500, -1571)\n",
      "gen: 33, fitness: (500, -1571)\n",
      "gen: 34, fitness: (500, -1571)\n",
      "gen: 35, fitness: (500, -1571)\n",
      "gen: 36, fitness: (500, -1571)\n",
      "gen: 37, fitness: (500, -1571)\n",
      "gen: 38, fitness: (500, -1571)\n",
      "gen: 39, fitness: (500, -1567)\n",
      "gen: 40, fitness: (500, -1562)\n",
      "gen: 41, fitness: (500, -1557)\n",
      "gen: 42, fitness: (500, -1557)\n",
      "gen: 43, fitness: (500, -1557)\n",
      "gen: 44, fitness: (500, -1557)\n",
      "gen: 45, fitness: (500, -1557)\n",
      "gen: 46, fitness: (500, -1557)\n",
      "gen: 47, fitness: (500, -1557)\n",
      "gen: 48, fitness: (500, -1557)\n",
      "gen: 49, fitness: (500, -1557)\n",
      "gen: 50, fitness: (500, -1557)\n",
      "gen: 51, fitness: (500, -1557)\n",
      "gen: 52, fitness: (500, -1557)\n",
      "gen: 53, fitness: (500, -1557)\n",
      "gen: 54, fitness: (500, -1557)\n",
      "gen: 55, fitness: (500, -1557)\n",
      "gen: 56, fitness: (500, -1557)\n",
      "gen: 57, fitness: (500, -1557)\n",
      "gen: 58, fitness: (500, -1557)\n",
      "gen: 59, fitness: (500, -1557)\n"
     ]
    },
    {
     "data": {
      "text/plain": [
       "(500, -1557)"
      ]
     },
     "execution_count": 255,
     "metadata": {},
     "output_type": "execute_result"
    }
   ],
   "source": [
    "res = run_evolution()\n",
    "res"
   ]
  }
 ],
 "metadata": {
  "interpreter": {
   "hash": "0ea1b08b46cfc20f9e2295cce54a0034ab2bd4610795e94cd2f497bb491a957c"
  },
  "kernelspec": {
   "display_name": "Python 3.10.0 ('ci22-al2GS7YL-py3.10')",
   "language": "python",
   "name": "python3"
  },
  "language_info": {
   "codemirror_mode": {
    "name": "ipython",
    "version": 3
   },
   "file_extension": ".py",
   "mimetype": "text/x-python",
   "name": "python",
   "nbconvert_exporter": "python",
   "pygments_lexer": "ipython3",
   "version": "3.10.0"
  },
  "orig_nbformat": 4
 },
 "nbformat": 4,
 "nbformat_minor": 2
}
